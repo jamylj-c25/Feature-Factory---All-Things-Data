{
 "cells": [
  {
   "cell_type": "markdown",
   "id": "f3a3c29b",
   "metadata": {},
   "source": [
    "### Example Project"
   ]
  },
  {
   "cell_type": "code",
   "execution_count": 2,
   "id": "1861ea72",
   "metadata": {},
   "outputs": [],
   "source": [
    "import pandas as pd"
   ]
  },
  {
   "cell_type": "code",
   "execution_count": 3,
   "id": "21261c9c",
   "metadata": {},
   "outputs": [
    {
     "name": "stdout",
     "output_type": "stream",
     "text": [
      " Volume in drive D is DEV\n",
      " Volume Serial Number is 867A-EF14\n",
      "\n",
      " Directory of D:\\MachineLearning\\sample_project_1\n",
      "\n",
      "2021-09-15  05:55 PM    <DIR>          .\n",
      "2021-09-15  05:55 PM    <DIR>          ..\n",
      "2021-09-15  05:51 PM    <DIR>          .ipynb_checkpoints\n",
      "2021-09-15  04:35 PM    <DIR>          env\n",
      "2021-09-15  05:55 PM               562 Hello World.ipynb\n",
      "2021-09-15  04:39 PM             1,541 Setup.ipynb\n",
      "               2 File(s)          2,103 bytes\n",
      "               4 Dir(s)   2,331,037,696 bytes free\n"
     ]
    }
   ],
   "source": [
    "ls"
   ]
  },
  {
   "cell_type": "markdown",
   "id": "bf16ce10",
   "metadata": {},
   "source": [
    "![](6-step-ml-framework.png)"
   ]
  },
  {
   "cell_type": "code",
   "execution_count": null,
   "id": "edb0b271",
   "metadata": {},
   "outputs": [],
   "source": []
  }
 ],
 "metadata": {
  "kernelspec": {
   "display_name": "Python 3 (ipykernel)",
   "language": "python",
   "name": "python3"
  },
  "language_info": {
   "codemirror_mode": {
    "name": "ipython",
    "version": 3
   },
   "file_extension": ".py",
   "mimetype": "text/x-python",
   "name": "python",
   "nbconvert_exporter": "python",
   "pygments_lexer": "ipython3",
   "version": "3.9.6"
  }
 },
 "nbformat": 4,
 "nbformat_minor": 5
}
